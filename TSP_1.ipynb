{
  "nbformat": 4,
  "nbformat_minor": 0,
  "metadata": {
    "colab": {
      "name": "TSP_1.ipynb",
      "version": "0.3.2",
      "provenance": [],
      "collapsed_sections": [],
      "include_colab_link": true
    },
    "kernelspec": {
      "name": "python3",
      "display_name": "Python 3"
    }
  },
  "cells": [
    {
      "cell_type": "markdown",
      "metadata": {
        "id": "view-in-github",
        "colab_type": "text"
      },
      "source": [
        "<a href=\"https://colab.research.google.com/github/alu0100880755/Logistica/blob/master/TSP_1.ipynb\" target=\"_parent\"><img src=\"https://colab.research.google.com/assets/colab-badge.svg\" alt=\"Open In Colab\"/></a>"
      ]
    },
    {
      "metadata": {
        "id": "3suUSUkNTOlZ",
        "colab_type": "code",
        "outputId": "5b229870-5a6b-4082-f6ed-1da964c0cffc",
        "colab": {
          "base_uri": "https://localhost:8080/",
          "height": 857
        }
      },
      "cell_type": "code",
      "source": [
        "#Instalamos lo necesario\n",
        "!pip install ortools\n",
        "from ortools.linear_solver import pywraplp\n",
        "\n",
        "#Importamos las librerías necesarias\n",
        "import random\n",
        "import math\n",
        "import matplotlib.pyplot as plt\n",
        "import json\n",
        "\n",
        "#Declaramos las constantes\n",
        "nodos = 6\n",
        "todos = range(nodos)\n",
        "otros = range(1,nodos)\n",
        "\n",
        "#Precisión\n",
        "EPS = 0.001\n",
        "\n",
        "#Semilla para que empiece por un punto similar siempre y poder comparar con varios modelos\n",
        "random.seed(8888)\n",
        "\n",
        "dist= { (i,j) : random.randint(10,100) for i in todos for j in todos if i!=j }\n",
        "\n",
        "#Arcos óptimos para el posterior muestreo\n",
        "dist_final = { }\n",
        "\n",
        "#####################################################################################\n",
        "#DIBUJAR LOS RESULTADOS\n",
        "\n",
        "points = [(random.randint(0,100),random.randint(0,100)) for i in todos]\n",
        "\n",
        "#dibuja una ruta dada como una lista de arcos\n",
        "def dibuja(selected):                \n",
        "    plt.plot([p[0] for p in points], [p[1] for p in points], 'bo')\n",
        "    for (i,j) in selected:\n",
        "        plt.plot([points[i][0],points[j][0]], [points[i][1],points[j][1]], 'g-')\n",
        "\n",
        "\n",
        "#####################################################################################\n",
        "\n",
        "\n",
        "#Primer modelo TSP\n",
        "def TSP_1():\n",
        "    solver = pywraplp.Solver('TSP', pywraplp.Solver.CBC_MIXED_INTEGER_PROGRAMMING)\n",
        "\n",
        "    #VARIABLES\n",
        "\n",
        "    #Arcos elegidos\n",
        "    x = {}\n",
        "    for i in todos:\n",
        "        for j in todos:\n",
        "            x[i, j] = solver.BoolVar('x[%i, %i]' % (i, j))\n",
        "    \n",
        "    #Posición de i en T relativo a  1\n",
        "    u = {}\n",
        "    for i in otros:\n",
        "        u[i] = solver.IntVar(0.0,solver.infinity(),'u[%i]' % (i))\n",
        "    \n",
        "    \n",
        "    #Función objetivo\n",
        "    solver.Minimize(solver.Sum([dist[i,j]*x[i,j] for i in todos for j in todos if i!=j]))\n",
        "\n",
        "    \n",
        "    #Restricciones\n",
        "    [ solver.Add(  solver.Sum(x[i,j] for j in todos if i!=j) == 1  )  for i in todos ]\n",
        "    [ solver.Add(  solver.Sum(x[j,i] for j in todos if i!=j) == 1  )  for i in todos ]\n",
        "    [ solver.Add(  u[j] >= u[i] + x[i,j] - (nodos-2)*(1-x[i,j]) + (nodos-3)*x[j,i]   ) for i in otros for j in otros if j!=i ]\n",
        "\n",
        "\n",
        "    #Resolvemos\n",
        "    sol = solver.Solve()\n",
        "\n",
        "    print(\"\\n\\nRUTA\")\n",
        "    \n",
        "    if sol == solver.OPTIMAL:\n",
        "            print('\\n\\tDistancia total de la ruta = ', solver.Objective().Value(),'kilómetros')\n",
        "\n",
        "            #DISTANCIAS ENTRE NODOS\n",
        "            print('\\n\\tCostos de distancia mínima:\\n')\n",
        "            for i in todos:\n",
        "                for j in todos:\n",
        "                    if i!=j and x[i,j].solution_value() > EPS :\n",
        "                        print('\\t\\tDe %d a %d con distancia = %d Km'  % (i,j,dist[i,j]))\n",
        "                        dist_final.update({ (i, j): dist[i,j] })   #Actualizamos el diccionario con las soluciones\n",
        "\n",
        "\n",
        "            #ORDEN DE LA RUTA\n",
        "            print('\\n\\tOrden de la ruta de distancia mínima:\\n')\n",
        "            ruta = '0'; i = 0;\n",
        "\n",
        "            while i != -1:\n",
        "                for j in todos:\n",
        "                    if x[i, j].solution_value() > 0:\n",
        "                        ruta += '--> ' + str(j)\n",
        "                        aux = j\n",
        "                if aux != 0:\n",
        "                    i = aux\n",
        "                else:\n",
        "                    i = -1\n",
        "            #Mostramos el orden de la ruta\n",
        "            print(\"\\t\", ruta)\n",
        "            \n",
        "\n",
        "            #Muestreo del tiempo\n",
        "            print(\"\\nDATOS DE INTERÉS\")\n",
        "\n",
        "            milisegundos = solver.WallTime()\n",
        "            segundos = round((milisegundos/1000),2)\n",
        "            minutos = round((segundos/60),2)\n",
        "            print(\"\\n\\tTiempo Empleado: \", milisegundos, \" milisegundos, | \", segundos , \" segundos | \", minutos, \" minutos \")\n",
        "            print(\"\\tIteraciones: \", solver.Iterations())\n",
        "            print(\"\\tNodos: \", solver.nodes())\n",
        "\n",
        "    else:\n",
        "            print('\\nNo existe solución óptima')\n",
        "\n",
        "    #DIBUJO DE LA RUTA\n",
        "    print('\\nDIBUJO DE LA RUTA')\n",
        "\n",
        "#Llamamos a la funcion\n",
        "TSP_1()        \n",
        "dibuja(dist_final)\n"
      ],
      "execution_count": 3,
      "outputs": [
        {
          "output_type": "stream",
          "text": [
            "Requirement already satisfied: ortools in /usr/local/lib/python3.6/dist-packages (6.10.6025)\n",
            "Requirement already satisfied: protobuf>=3.6.1 in /usr/local/lib/python3.6/dist-packages (from ortools) (3.6.1)\n",
            "Requirement already satisfied: six>=1.10 in /usr/local/lib/python3.6/dist-packages (from ortools) (1.11.0)\n",
            "Requirement already satisfied: setuptools in /usr/local/lib/python3.6/dist-packages (from protobuf>=3.6.1->ortools) (40.6.3)\n",
            "\n",
            "\n",
            "RUTA\n",
            "\n",
            "\tDistancia total de la ruta =  210.0 kilómetros\n",
            "\n",
            "\tCostos de distancia mínima:\n",
            "\n",
            "\t\tDe 0 a 4 con distancia = 74 Km\n",
            "\t\tDe 1 a 5 con distancia = 18 Km\n",
            "\t\tDe 2 a 1 con distancia = 30 Km\n",
            "\t\tDe 3 a 0 con distancia = 48 Km\n",
            "\t\tDe 4 a 2 con distancia = 20 Km\n",
            "\t\tDe 5 a 3 con distancia = 20 Km\n",
            "\n",
            "\tOrden de la ruta de distancia mínima:\n",
            "\n",
            "\t 0--> 4--> 2--> 1--> 5--> 3--> 0\n",
            "\n",
            "DATOS DE INTERÉS\n",
            "\n",
            "\tTiempo Empleado:  12  milisegundos, |  0.01  segundos |  0.0  minutos \n",
            "\tIteraciones:  0\n",
            "\tNodos:  0\n",
            "\n",
            "DIBUJO DE LA RUTA\n"
          ],
          "name": "stdout"
        },
        {
          "output_type": "display_data",
          "data": {
            "image/png": "[encoded data removed]",
            "text/plain": [
              "<matplotlib.figure.Figure at 0x7fcc79028f98>"
            ]
          },
          "metadata": {
            "tags": []
          }
        }
      ]
    },
    {
      "metadata": {
        "id": "cbMfbHwhBu0W",
        "colab_type": "text"
      },
      "cell_type": "markdown",
      "source": [
        ""
      ]
    },
    {
      "metadata": {
        "id": "S4Cx5-psBvf-",
        "colab_type": "code",
        "colab": {}
      },
      "cell_type": "code",
      "source": [
        ""
      ],
      "execution_count": 0,
      "outputs": []
    }
  ]
}